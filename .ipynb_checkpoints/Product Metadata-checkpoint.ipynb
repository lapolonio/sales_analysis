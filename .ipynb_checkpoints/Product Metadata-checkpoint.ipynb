{
 "cells": [
  {
   "cell_type": "code",
   "execution_count": 42,
   "metadata": {
    "collapsed": true
   },
   "outputs": [],
   "source": [
    "from semantics3 import Products\n",
    "\n",
    "sem3 = Products(\n",
    "\tapi_key = \"SEM3B846998604F80367B3A032A3153D8959\",\n",
    "\tapi_secret = \"MzBkY2JjOTg1Yjk4MDBhMWFmNTk3ZGYzYTk5MjVmMGI\"\n",
    ")"
   ]
  },
  {
   "cell_type": "code",
   "execution_count": 39,
   "metadata": {
    "collapsed": true
   },
   "outputs": [],
   "source": [
    "import time\n",
    "\n",
    "def RateLimited(maxPerSecond):\n",
    "    minInterval = 1.0 / float(maxPerSecond)\n",
    "    def decorate(func):\n",
    "        lastTimeCalled = [0.0]\n",
    "        def rateLimitedFunction(*args,**kargs):\n",
    "            elapsed = time.clock() - lastTimeCalled[0]\n",
    "            leftToWait = minInterval - elapsed\n",
    "            if leftToWait>0:\n",
    "                time.sleep(leftToWait)\n",
    "            ret = func(*args,**kargs)\n",
    "            lastTimeCalled[0] = time.clock()\n",
    "            return ret\n",
    "        return rateLimitedFunction\n",
    "    return decorate"
   ]
  },
  {
   "cell_type": "code",
   "execution_count": 43,
   "metadata": {},
   "outputs": [],
   "source": [
    "import pandas as pd\n",
    "sales_data = pd.read_csv('4729-2038.tsv', sep='\\t')"
   ]
  },
  {
   "cell_type": "code",
   "execution_count": 25,
   "metadata": {},
   "outputs": [
    {
     "data": {
      "text/plain": [
       "0    0000000000715756200020\n",
       "1    0000000000074641006050\n",
       "2    0000000000078742147150\n",
       "3    0000000000078742116760\n",
       "4    0000000000016000432680\n",
       "Name: upc, dtype: object"
      ]
     },
     "execution_count": 25,
     "metadata": {},
     "output_type": "execute_result"
    }
   ],
   "source": [
    "sales_data['upc'].head()"
   ]
  },
  {
   "cell_type": "code",
   "execution_count": 40,
   "metadata": {
    "collapsed": true
   },
   "outputs": [],
   "source": [
    "@RateLimited(7)\n",
    "def writeupc(csvwriter, upc):\n",
    "    sem3.products_field(\"upc\", upc)\n",
    "    root = sem3.get_products()\n",
    "    root\n",
    "    if root['results_count'] > 0:\n",
    "        product = root['results'][0]\n",
    "        csvwriter.writerow([\n",
    "            upc\n",
    "            ,product['cat_id'] if 'cat_id' in product else 'N\\A'\n",
    "            ,product['category'] if 'category' in product else 'N\\A'\n",
    "            ,product['description'] if 'description' in product else 'N\\A'\n",
    "            ,product['images'] if 'images' in product else 'N\\A'\n",
    "            ,product['manufacturer'] if 'manufacturer' in product else 'N\\A'\n",
    "            ,product['name'] if 'name' in product else 'N\\A'\n",
    "            ,product['weight'] if 'weight' in product else 'N\\A'  # milligram\n",
    "            ,product['upc'] if 'upc' in product else 'N\\A'\n",
    "            ,product['sem3_id'] if 'sem3_id' in product else 'N\\A'\n",
    "        ])\n",
    "    else:\n",
    "        csvwriter.writerow([\n",
    "            upc\n",
    "            ,'N\\A'\n",
    "            ,'N\\A'\n",
    "            ,'N\\A'\n",
    "            ,'N\\A'\n",
    "            ,'N\\A'\n",
    "            ,'N\\A'\n",
    "            ,'N\\A'\n",
    "            ,'N\\A'\n",
    "            ,'N\\A'\n",
    "        ])"
   ]
  },
  {
   "cell_type": "code",
   "execution_count": 41,
   "metadata": {},
   "outputs": [
    {
     "ename": "Semantics3Error",
     "evalue": "Throttle Error: Your quota of 1000 requests/86400s is exceeded, and your post-quota rate limit of 3 requests/1s is exceeded! -- please retry in some time",
     "output_type": "error",
     "traceback": [
      "\u001b[0;31m---------------------------------------------------------------------------\u001b[0m",
      "\u001b[0;31mSemantics3Error\u001b[0m                           Traceback (most recent call last)",
      "\u001b[0;32m<ipython-input-41-86e2518e0f6c>\u001b[0m in \u001b[0;36m<module>\u001b[0;34m()\u001b[0m\n\u001b[1;32m     17\u001b[0m                        ])\n\u001b[1;32m     18\u001b[0m     \u001b[0;32mfor\u001b[0m \u001b[0mupc\u001b[0m \u001b[0;32min\u001b[0m \u001b[0msales_data\u001b[0m\u001b[0;34m[\u001b[0m\u001b[0;34m'upc'\u001b[0m\u001b[0;34m]\u001b[0m\u001b[0;34m.\u001b[0m\u001b[0munique\u001b[0m\u001b[0;34m(\u001b[0m\u001b[0;34m)\u001b[0m\u001b[0;34m:\u001b[0m\u001b[0;34m\u001b[0m\u001b[0m\n\u001b[0;32m---> 19\u001b[0;31m         \u001b[0mwriteupc\u001b[0m\u001b[0;34m(\u001b[0m\u001b[0mcsvwriter\u001b[0m\u001b[0;34m,\u001b[0m \u001b[0mupc\u001b[0m\u001b[0;34m)\u001b[0m\u001b[0;34m\u001b[0m\u001b[0m\n\u001b[0m\u001b[1;32m     20\u001b[0m \u001b[0;34m\u001b[0m\u001b[0m\n",
      "\u001b[0;32m<ipython-input-39-329cfbb8e85f>\u001b[0m in \u001b[0;36mrateLimitedFunction\u001b[0;34m(*args, **kargs)\u001b[0m\n\u001b[1;32m     10\u001b[0m             \u001b[0;32mif\u001b[0m \u001b[0mleftToWait\u001b[0m\u001b[0;34m>\u001b[0m\u001b[0;36m0\u001b[0m\u001b[0;34m:\u001b[0m\u001b[0;34m\u001b[0m\u001b[0m\n\u001b[1;32m     11\u001b[0m                 \u001b[0mtime\u001b[0m\u001b[0;34m.\u001b[0m\u001b[0msleep\u001b[0m\u001b[0;34m(\u001b[0m\u001b[0mleftToWait\u001b[0m\u001b[0;34m)\u001b[0m\u001b[0;34m\u001b[0m\u001b[0m\n\u001b[0;32m---> 12\u001b[0;31m             \u001b[0mret\u001b[0m \u001b[0;34m=\u001b[0m \u001b[0mfunc\u001b[0m\u001b[0;34m(\u001b[0m\u001b[0;34m*\u001b[0m\u001b[0margs\u001b[0m\u001b[0;34m,\u001b[0m\u001b[0;34m**\u001b[0m\u001b[0mkargs\u001b[0m\u001b[0;34m)\u001b[0m\u001b[0;34m\u001b[0m\u001b[0m\n\u001b[0m\u001b[1;32m     13\u001b[0m             \u001b[0mlastTimeCalled\u001b[0m\u001b[0;34m[\u001b[0m\u001b[0;36m0\u001b[0m\u001b[0;34m]\u001b[0m \u001b[0;34m=\u001b[0m \u001b[0mtime\u001b[0m\u001b[0;34m.\u001b[0m\u001b[0mclock\u001b[0m\u001b[0;34m(\u001b[0m\u001b[0;34m)\u001b[0m\u001b[0;34m\u001b[0m\u001b[0m\n\u001b[1;32m     14\u001b[0m             \u001b[0;32mreturn\u001b[0m \u001b[0mret\u001b[0m\u001b[0;34m\u001b[0m\u001b[0m\n",
      "\u001b[0;32m<ipython-input-40-944874d031c3>\u001b[0m in \u001b[0;36mwriteupc\u001b[0;34m(csvwriter, upc)\u001b[0m\n\u001b[1;32m      2\u001b[0m \u001b[0;32mdef\u001b[0m \u001b[0mwriteupc\u001b[0m\u001b[0;34m(\u001b[0m\u001b[0mcsvwriter\u001b[0m\u001b[0;34m,\u001b[0m \u001b[0mupc\u001b[0m\u001b[0;34m)\u001b[0m\u001b[0;34m:\u001b[0m\u001b[0;34m\u001b[0m\u001b[0m\n\u001b[1;32m      3\u001b[0m     \u001b[0msem3\u001b[0m\u001b[0;34m.\u001b[0m\u001b[0mproducts_field\u001b[0m\u001b[0;34m(\u001b[0m\u001b[0;34m\"upc\"\u001b[0m\u001b[0;34m,\u001b[0m \u001b[0mupc\u001b[0m\u001b[0;34m)\u001b[0m\u001b[0;34m\u001b[0m\u001b[0m\n\u001b[0;32m----> 4\u001b[0;31m     \u001b[0mroot\u001b[0m \u001b[0;34m=\u001b[0m \u001b[0msem3\u001b[0m\u001b[0;34m.\u001b[0m\u001b[0mget_products\u001b[0m\u001b[0;34m(\u001b[0m\u001b[0;34m)\u001b[0m\u001b[0;34m\u001b[0m\u001b[0m\n\u001b[0m\u001b[1;32m      5\u001b[0m     \u001b[0mroot\u001b[0m\u001b[0;34m\u001b[0m\u001b[0m\n\u001b[1;32m      6\u001b[0m     \u001b[0;32mif\u001b[0m \u001b[0mroot\u001b[0m\u001b[0;34m[\u001b[0m\u001b[0;34m'results_count'\u001b[0m\u001b[0;34m]\u001b[0m \u001b[0;34m>\u001b[0m \u001b[0;36m0\u001b[0m\u001b[0;34m:\u001b[0m\u001b[0;34m\u001b[0m\u001b[0m\n",
      "\u001b[0;32m/Users/lapolonio/anaconda/envs/PythonData/lib/python3.6/site-packages/semantics3/products.py\u001b[0m in \u001b[0;36mget_products\u001b[0;34m(self)\u001b[0m\n\u001b[1;32m     10\u001b[0m \u001b[0;34m\u001b[0m\u001b[0m\n\u001b[1;32m     11\u001b[0m     \u001b[0;32mdef\u001b[0m \u001b[0mget_products\u001b[0m\u001b[0;34m(\u001b[0m\u001b[0mself\u001b[0m\u001b[0;34m)\u001b[0m\u001b[0;34m:\u001b[0m\u001b[0;34m\u001b[0m\u001b[0m\n\u001b[0;32m---> 12\u001b[0;31m         \u001b[0;32mreturn\u001b[0m \u001b[0mself\u001b[0m\u001b[0;34m.\u001b[0m\u001b[0mget\u001b[0m\u001b[0;34m(\u001b[0m\u001b[0;34m)\u001b[0m\u001b[0;34m\u001b[0m\u001b[0m\n\u001b[0m\u001b[1;32m     13\u001b[0m \u001b[0;34m\u001b[0m\u001b[0m\n\u001b[1;32m     14\u001b[0m     \u001b[0;32mdef\u001b[0m \u001b[0mget_offers\u001b[0m\u001b[0;34m(\u001b[0m\u001b[0mself\u001b[0m\u001b[0;34m)\u001b[0m\u001b[0;34m:\u001b[0m\u001b[0;34m\u001b[0m\u001b[0m\n",
      "\u001b[0;32m/Users/lapolonio/anaconda/envs/PythonData/lib/python3.6/site-packages/semantics3/semantics3.py\u001b[0m in \u001b[0;36mget\u001b[0;34m(self, endpoint)\u001b[0m\n\u001b[1;32m    152\u001b[0m \u001b[0;34m\u001b[0m\u001b[0m\n\u001b[1;32m    153\u001b[0m     \u001b[0;32mdef\u001b[0m \u001b[0mget\u001b[0m\u001b[0;34m(\u001b[0m\u001b[0mself\u001b[0m\u001b[0;34m,\u001b[0m \u001b[0mendpoint\u001b[0m\u001b[0;34m=\u001b[0m\u001b[0;32mNone\u001b[0m\u001b[0;34m)\u001b[0m\u001b[0;34m:\u001b[0m\u001b[0;34m\u001b[0m\u001b[0m\n\u001b[0;32m--> 154\u001b[0;31m         \u001b[0;32mreturn\u001b[0m \u001b[0mself\u001b[0m\u001b[0;34m.\u001b[0m\u001b[0mrun_query\u001b[0m\u001b[0;34m(\u001b[0m\u001b[0mendpoint\u001b[0m\u001b[0;34m)\u001b[0m\u001b[0;34m\u001b[0m\u001b[0m\n\u001b[0m\u001b[1;32m    155\u001b[0m \u001b[0;34m\u001b[0m\u001b[0m\n\u001b[1;32m    156\u001b[0m     \u001b[0;32mdef\u001b[0m \u001b[0mclear_query\u001b[0m\u001b[0;34m(\u001b[0m\u001b[0mself\u001b[0m\u001b[0;34m)\u001b[0m\u001b[0;34m:\u001b[0m\u001b[0;34m\u001b[0m\u001b[0m\n",
      "\u001b[0;32m/Users/lapolonio/anaconda/envs/PythonData/lib/python3.6/site-packages/semantics3/semantics3.py\u001b[0m in \u001b[0;36mrun_query\u001b[0;34m(self, endpoint, method, params)\u001b[0m\n\u001b[1;32m    141\u001b[0m                 \u001b[0mmethod\u001b[0m\u001b[0;34m,\u001b[0m\u001b[0;34m\u001b[0m\u001b[0m\n\u001b[1;32m    142\u001b[0m                 \u001b[0mendpoint\u001b[0m\u001b[0;34m,\u001b[0m\u001b[0;34m\u001b[0m\u001b[0m\n\u001b[0;32m--> 143\u001b[0;31m                 \u001b[0mquery\u001b[0m\u001b[0;34m\u001b[0m\u001b[0m\n\u001b[0m\u001b[1;32m    144\u001b[0m             )\n\u001b[1;32m    145\u001b[0m         \u001b[0;32melse\u001b[0m\u001b[0;34m:\u001b[0m\u001b[0;34m\u001b[0m\u001b[0m\n",
      "\u001b[0;32m/Users/lapolonio/anaconda/envs/PythonData/lib/python3.6/site-packages/semantics3/semantics3.py\u001b[0m in \u001b[0;36mquery\u001b[0;34m(self, method, endpoint, kwargs)\u001b[0m\n\u001b[1;32m    129\u001b[0m                 \u001b[0mresponse_body\u001b[0m \u001b[0;34m=\u001b[0m \u001b[0mresponse\u001b[0m\u001b[0;34m.\u001b[0m\u001b[0mjson\u001b[0m\u001b[0;34m(\u001b[0m\u001b[0;34m)\u001b[0m\u001b[0;34m\u001b[0m\u001b[0m\n\u001b[1;32m    130\u001b[0m                 raise Semantics3Error(response_body.get('code'),\n\u001b[0;32m--> 131\u001b[0;31m                                       response_body.get('message'))\n\u001b[0m\u001b[1;32m    132\u001b[0m \u001b[0;34m\u001b[0m\u001b[0m\n\u001b[1;32m    133\u001b[0m     \u001b[0;32mdef\u001b[0m \u001b[0mrun_query\u001b[0m\u001b[0;34m(\u001b[0m\u001b[0mself\u001b[0m\u001b[0;34m,\u001b[0m \u001b[0mendpoint\u001b[0m\u001b[0;34m=\u001b[0m\u001b[0;32mNone\u001b[0m\u001b[0;34m,\u001b[0m \u001b[0mmethod\u001b[0m\u001b[0;34m=\u001b[0m\u001b[0;34m'GET'\u001b[0m\u001b[0;34m,\u001b[0m \u001b[0mparams\u001b[0m\u001b[0;34m=\u001b[0m\u001b[0;32mNone\u001b[0m\u001b[0;34m)\u001b[0m\u001b[0;34m:\u001b[0m\u001b[0;34m\u001b[0m\u001b[0m\n",
      "\u001b[0;31mSemantics3Error\u001b[0m: Throttle Error: Your quota of 1000 requests/86400s is exceeded, and your post-quota rate limit of 3 requests/1s is exceeded! -- please retry in some time"
     ]
    }
   ],
   "source": [
    "import csv\n",
    "\n",
    "\n",
    "with open('products.csv', 'w') as csvfile:\n",
    "    csvwriter = csv.writer(csvfile)\n",
    "    # write header\n",
    "    csvwriter.writerow([\"csv_upc\",\n",
    "                        \"cat_id\",\n",
    "                        \"category\",\n",
    "                        \"description\",\n",
    "                        \"images\",\n",
    "                        \"manufacturer\",\n",
    "                        \"name\",\n",
    "                        \"weight\",\n",
    "                        \"upc\",\n",
    "                        \"sem3_id\"\n",
    "                       ])\n",
    "    for upc in sales_data['upc'].unique():\n",
    "        writeupc(csvwriter, upc)\n",
    "            "
   ]
  },
  {
   "cell_type": "code",
   "execution_count": 31,
   "metadata": {},
   "outputs": [
    {
     "data": {
      "text/plain": [
       "True"
      ]
     },
     "execution_count": 31,
     "metadata": {},
     "output_type": "execute_result"
    }
   ],
   "source": [
    "root['results_count'] > 0"
   ]
  },
  {
   "cell_type": "code",
   "execution_count": 18,
   "metadata": {},
   "outputs": [
    {
     "data": {
      "text/plain": [
       "'715756200023'"
      ]
     },
     "execution_count": 18,
     "metadata": {},
     "output_type": "execute_result"
    }
   ],
   "source": [
    "# determine attributes from individual product to use\n",
    "product = root['results'][0]\n",
    "product['cat_id']\n",
    "product['category']\n",
    "product['description']\n",
    "product['images']\n",
    "product['manufacturer']\n",
    "product['name']\n",
    "product['weight'] # milligram\n",
    "product['upc']"
   ]
  }
 ],
 "metadata": {
  "kernelspec": {
   "display_name": "Python [conda env:PythonData]",
   "language": "python",
   "name": "conda-env-PythonData-py"
  },
  "language_info": {
   "codemirror_mode": {
    "name": "ipython",
    "version": 3
   },
   "file_extension": ".py",
   "mimetype": "text/x-python",
   "name": "python",
   "nbconvert_exporter": "python",
   "pygments_lexer": "ipython3",
   "version": "3.6.1"
  }
 },
 "nbformat": 4,
 "nbformat_minor": 2
}
